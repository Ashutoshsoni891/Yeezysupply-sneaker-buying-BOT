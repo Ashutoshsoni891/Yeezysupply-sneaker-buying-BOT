{
 "cells": [
  {
   "cell_type": "code",
   "execution_count": 5,
   "metadata": {},
   "outputs": [],
   "source": [
    "from selenium import webdriver\n",
    "from selenium.webdriver.common.keys import Keys\n",
    "import time\n",
    "from bs4 import BeautifulSoup as soup\n",
    "from urllib3 import request\n",
    "import requests\n",
    "from selenium.webdriver.support.ui import Select\n",
    "from credentials import keys\n"
   ]
  },
  {
   "cell_type": "code",
   "execution_count": 4,
   "metadata": {},
   "outputs": [
    {
     "data": {
      "text/plain": [
       "'486639593752'"
      ]
     },
     "execution_count": 4,
     "metadata": {},
     "output_type": "execute_result"
    }
   ],
   "source": [
    "keys['CARD_NO']"
   ]
  },
  {
   "cell_type": "code",
   "execution_count": 56,
   "metadata": {},
   "outputs": [],
   "source": [
    "\n",
    "PROXY = ['139.180.228.85:3128','139.180.7.221:3128','139.180.7.242:3128','162.244.146.53:3128','162.244.148.243:3128','168.91.12.225:3128','168.91.14.202:3128','168.91.14.215:3128','168.91.14.232:3128','209.59.231.240:3128' ]# IP:PORT or HOST:PORT\n",
    "\n",
    "chrome_options = webdriver.ChromeOptions()\n",
    "chrome_options.add_argument('--proxy-server=%s' % PROXY)\n",
    "\n",
    "chrome = webdriver.Chrome(r'/home/aashutosh/Documents/webScrapingStuffs/chr webdriver/chromedriver')\n",
    "chrome.get(\"http://whatismyipaddress.com\")"
   ]
  },
  {
   "cell_type": "code",
   "execution_count": 20,
   "metadata": {},
   "outputs": [
    {
     "data": {
      "text/plain": [
       "'THICK SUEDE COMBAT BOOT'"
      ]
     },
     "execution_count": 20,
     "metadata": {},
     "output_type": "execute_result"
    }
   ],
   "source": [
    "# credentials.keys['PRODUCT_NAME']\n",
    "product = keys['PRODUCT_NAME']\n",
    "product"
   ]
  },
  {
   "cell_type": "code",
   "execution_count": 8,
   "metadata": {},
   "outputs": [
    {
     "name": "stdout",
     "output_type": "stream",
     "text": [
      "https://yeezysupply.com/17655971/checkouts/68408c50ba18b16f1b4348385b8f5fb7?previous_step=shipping_method&step=payment_method\n"
     ]
    }
   ],
   "source": [
    "\n",
    "browser=webdriver.Chrome(r'/home/aashutosh/Documents/webScrapingStuffs/chr webdriver/chromedriver')\n",
    "browser.get(keys['URL'])\n",
    "time.sleep(2)\n",
    "browser.find_element_by_css_selector(\" a[title*='THICK SUEDE COMBAT BOOT'] \").click()\n",
    "site1 = browser.current_url\n",
    "browser.get(site1)\n",
    "\n",
    "select = Select(browser.find_element_by_id('SIZE'))\n",
    "\n",
    "# select by visible text\n",
    "select.select_by_visible_text(keys['PRODUCT_SIZE'])\n",
    "browser.find_element_by_name('add').click()\n",
    "time.sleep(2)\n",
    "browser.get('https://yeezysupply.com/cart')\n",
    "browser.find_element_by_name('updates[]').send_keys(keys['NO_OF_ITEMS'])\n",
    "browser.find_element_by_name('checkout').click()\n",
    "browser.find_element_by_name('checkout[email]').send_keys(keys['EMAIL'])\n",
    "time.sleep(2)\n",
    "browser.find_element_by_name('checkout[shipping_address][first_name]').send_keys(keys['FIRST_NAME'])\n",
    "browser.find_element_by_name('checkout[shipping_address][last_name]').send_keys(keys['LAST_NAME'])\n",
    "browser.find_element_by_name('checkout[shipping_address][address1]').send_keys(keys['ADDRESS1'])\n",
    "browser.find_element_by_name('checkout[shipping_address][address2]').send_keys(keys['ADDRESS2'])\n",
    "time.sleep(0.5)\n",
    "browser.find_element_by_name('checkout[shipping_address][city]').send_keys(keys['CITY'])\n",
    "time.sleep(0.5)\n",
    "select = Select(browser.find_element_by_id('checkout_shipping_address_province'))\n",
    "select.select_by_visible_text(keys['STATE'])\n",
    "browser.find_element_by_name('checkout[shipping_address][zip]').send_keys(keys['PIN'])\n",
    "browser.find_element_by_name('checkout[shipping_address][phone]').send_keys(keys['PHONE'])\n",
    "time.sleep(1)\n",
    "browser.find_element_by_id('salesFinal').click()\n",
    "time.sleep(1)\n",
    "browser.find_element_by_name('button').click()\n",
    "site2 = browser.current_url\n",
    "browser.get(site2)\n",
    "time.sleep(2)\n",
    "browser.find_element_by_name('button').click()\n",
    "site3 = browser.current_url\n",
    "browser.get(site3)\n",
    "time.sleep(1)\n",
    "browser.find_element_by_class_name('input-radio').click()\n",
    "time.sleep(1)\n",
    "print(browser.current_url)\n",
    "\n",
    "browser.switch_to.frame(browser.find_element_by_css_selector('iframe[title*=\"Field container for: NAME ON CARD\"]'))\n",
    "browser.find_element_by_css_selector('input[name*=\"name\"]').send_keys(keys['FIRST_NAME'])\n",
    "browser.switch_to.default_content()\n",
    "\n",
    "browser.switch_to.frame(browser.find_element_by_css_selector('iframe[title*=\"Field container for: CARD NUMBER\"]'))\n",
    "browser.find_element_by_css_selector('input[name*=\"number\"]').send_keys(keys['CARD_NO'])\n",
    "browser.switch_to.default_content()\n",
    "# time.sleep(1)\n",
    "browser.switch_to.frame(browser.find_element_by_css_selector('iframe[title*=\"Field container for: CVV\"]'))\n",
    "browser.find_element_by_css_selector('input[name*=\"verification_value\"]').send_keys(keys['CVV'])\n",
    "browser.switch_to.default_content()\n",
    "\n",
    "browser.switch_to.frame(browser.find_element_by_css_selector('iframe[title*=\"Field container for: MM / YY\"]'))\n",
    "browser.find_element_by_xpath('//*[@id=\"expiry\"]').send_keys(keys['EXP_DATE'])\n",
    "browser.switch_to.default_content()\n",
    "time.sleep(1)\n",
    "# browser.find_element_by_name('button').click()\n",
    "\n",
    "\n"
   ]
  },
  {
   "cell_type": "code",
   "execution_count": null,
   "metadata": {},
   "outputs": [],
   "source": [
    "Field container for: CARD NUMBER\n",
    "Field container for: MM / YY\n",
    "title=\"Field container for: MM / YY\"\n",
    "Field container for: CVV"
   ]
  },
  {
   "cell_type": "code",
   "execution_count": null,
   "metadata": {},
   "outputs": [],
   "source": [
    "//*[@id=\"name\"]"
   ]
  }
 ],
 "metadata": {
  "kernelspec": {
   "display_name": "Python 3",
   "language": "python",
   "name": "python3"
  },
  "language_info": {
   "codemirror_mode": {
    "name": "ipython",
    "version": 3
   },
   "file_extension": ".py",
   "mimetype": "text/x-python",
   "name": "python",
   "nbconvert_exporter": "python",
   "pygments_lexer": "ipython3",
   "version": "3.6.7"
  }
 },
 "nbformat": 4,
 "nbformat_minor": 2
}
